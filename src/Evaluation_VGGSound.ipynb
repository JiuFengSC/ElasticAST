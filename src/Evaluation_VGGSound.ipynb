{
 "cells": [
  {
   "cell_type": "markdown",
   "metadata": {},
   "source": [
    "# ElasticAST evaluated on VGGSound\n",
    "All the evaluation logs can be observed below.\n",
    "\n",
    "When doing it your self, please change the directory accordingly.\n",
    "\n",
    "NOTE: VGGSound is a fixed-length dataset, and the experiments are used to measure the performance for **various resolution**.\n",
    "\n",
    "## Create and load the model"
   ]
  },
  {
   "cell_type": "code",
   "execution_count": 1,
   "metadata": {},
   "outputs": [
    {
     "name": "stderr",
     "output_type": "stream",
     "text": [
      "/home/jfeng/anaconda3/envs/flexiast2/lib/python3.8/site-packages/tqdm/auto.py:22: TqdmWarning: IProgress not found. Please update jupyter and ipywidgets. See https://ipywidgets.readthedocs.io/en/stable/user_install.html\n",
      "  from .autonotebook import tqdm as notebook_tqdm\n"
     ]
    },
    {
     "data": {
      "text/plain": [
       "<All keys matched successfully>"
      ]
     },
     "execution_count": 1,
     "metadata": {},
     "output_type": "execute_result"
    }
   ],
   "source": [
    "import torch\n",
    "import os\n",
    "os.environ[\"CUDA_VISIBLE_DEVICES\"] = \"3\"\n",
    "\n",
    "from tqdm import tqdm\n",
    "\n",
    "\n",
    "from models import ElasticAST\n",
    "import numpy as nps\n",
    "from utilities import *\n",
    "\n",
    "\n",
    "batch_size = 12\n",
    "mel_bins = 128\n",
    "audio_length = 1024\n",
    "dataset = 'vggsound'\n",
    "dataset_mean = -5.08\n",
    "dataset_std = 4.453\n",
    "Fshift = 10\n",
    "window_size = 25\n",
    "data_val = '/home/jfeng/FJ/ElasticAST/egs/vggsound/data/datafiles/vgg_final_test.json'\n",
    "label_csv = '/home/jfeng/FJ/ElasticAST/egs/vggsound/data/class_labels_indices.csv'\n",
    "expand_ratio=1\n",
    "\n",
    "# Model, Loss, and Optimizer\n",
    "model = ElasticAST(\n",
    "    sample_size = (mel_bins,int(audio_length/expand_ratio)),\n",
    "    patch_size = 16,\n",
    "    num_classes = 309,\n",
    "    dim = 768,\n",
    "    depth = 12,\n",
    "    heads = 12,\n",
    "    dropout = 0,\n",
    "    emb_dropout = 0,\n",
    "    token_dropout_prob = 0,  # token dropout of 10% (keep 90% of tokens)\n",
    "    channels=1,\n",
    ")\n",
    "\n",
    "\n",
    "model_load = \"/home/jfeng/FJ/ElasticAST/pretrain_weights/ElasctiAST_VGGSound.pth\"\n",
    "\n",
    "\n",
    "out_dict = {}\n",
    "state_dict = torch.load(model_load,map_location=torch.device('cpu'))\n",
    "for k, v in state_dict.items(): # Adjust the name of dict\n",
    "    out_dict[k[7:]] = v\n",
    "model.load_state_dict(out_dict, strict=True)"
   ]
  },
  {
   "cell_type": "markdown",
   "metadata": {},
   "source": [
    "## Prepare for the datasets and evaluation pipelines."
   ]
  },
  {
   "cell_type": "code",
   "execution_count": 2,
   "metadata": {},
   "outputs": [
    {
     "name": "stderr",
     "output_type": "stream",
     "text": [
      "################################################################################\n",
      "### WARNING, path does not exist: KALDI_ROOT=/mnt/matylda5/iveselyk/Tools/kaldi-trunk\n",
      "###          (please add 'export KALDI_ROOT=<your_path>' in your $HOME/.profile)\n",
      "###          (or run as: KALDI_ROOT=<your_path> python <your_script>.py)\n",
      "################################################################################\n",
      "\n"
     ]
    },
    {
     "name": "stdout",
     "output_type": "stream",
     "text": [
      "---------------the evaluation dataloader---------------\n",
      "now using following mask: 0 freq, 0 time\n",
      "now using mix-up with rate 0.000000\n",
      "now process vggsound\n",
      "use dataset mean -5.080 and std 4.453 to normalize the input.\n",
      "number of classes is 309\n",
      "now using frame shift 10\n",
      "now using win size 25\n",
      "changing window size:  None\n"
     ]
    },
    {
     "name": "stderr",
     "output_type": "stream",
     "text": [
      "100%|██████████| 1288/1288 [01:03<00:00, 20.22it/s]\n"
     ]
    },
    {
     "name": "stdout",
     "output_type": "stream",
     "text": [
      "Mel-spec resolution is compressed 1.0 times, mAP: 0.5418472111422491, acc: 0.5244076136216497\n",
      "---------------the evaluation dataloader---------------\n",
      "now using following mask: 0 freq, 0 time\n",
      "now using mix-up with rate 0.000000\n",
      "now process vggsound\n",
      "use dataset mean -5.080 and std 4.453 to normalize the input.\n",
      "number of classes is 309\n",
      "now using frame shift 10\n",
      "now using win size 25\n",
      "changing window size:  None\n"
     ]
    },
    {
     "name": "stderr",
     "output_type": "stream",
     "text": [
      "100%|██████████| 1288/1288 [00:46<00:00, 27.42it/s]\n"
     ]
    },
    {
     "name": "stdout",
     "output_type": "stream",
     "text": [
      "Mel-spec resolution is compressed 1.2 times, mAP: 0.5423908153676537, acc: 0.5269972808494109\n",
      "---------------the evaluation dataloader---------------\n",
      "now using following mask: 0 freq, 0 time\n",
      "now using mix-up with rate 0.000000\n",
      "now process vggsound\n",
      "use dataset mean -5.080 and std 4.453 to normalize the input.\n",
      "number of classes is 309\n",
      "now using frame shift 10\n",
      "now using win size 25\n",
      "changing window size:  None\n"
     ]
    },
    {
     "name": "stderr",
     "output_type": "stream",
     "text": [
      "100%|██████████| 1288/1288 [00:41<00:00, 31.07it/s]\n"
     ]
    },
    {
     "name": "stdout",
     "output_type": "stream",
     "text": [
      "Mel-spec resolution is compressed 1.4 times, mAP: 0.5381054770252237, acc: 0.5234364884112391\n",
      "---------------the evaluation dataloader---------------\n",
      "now using following mask: 0 freq, 0 time\n",
      "now using mix-up with rate 0.000000\n",
      "now process vggsound\n",
      "use dataset mean -5.080 and std 4.453 to normalize the input.\n",
      "number of classes is 309\n",
      "now using frame shift 10\n",
      "now using win size 25\n",
      "changing window size:  None\n"
     ]
    },
    {
     "name": "stderr",
     "output_type": "stream",
     "text": [
      "100%|██████████| 1288/1288 [00:34<00:00, 37.72it/s]\n"
     ]
    },
    {
     "name": "stdout",
     "output_type": "stream",
     "text": [
      "Mel-spec resolution is compressed 1.6 times, mAP: 0.5384930610394695, acc: 0.5239544218567914\n",
      "---------------the evaluation dataloader---------------\n",
      "now using following mask: 0 freq, 0 time\n",
      "now using mix-up with rate 0.000000\n",
      "now process vggsound\n",
      "use dataset mean -5.080 and std 4.453 to normalize the input.\n",
      "number of classes is 309\n",
      "now using frame shift 10\n",
      "now using win size 25\n",
      "changing window size:  None\n"
     ]
    },
    {
     "name": "stderr",
     "output_type": "stream",
     "text": [
      "100%|██████████| 1288/1288 [00:30<00:00, 42.34it/s]\n"
     ]
    },
    {
     "name": "stdout",
     "output_type": "stream",
     "text": [
      "Mel-spec resolution is compressed 1.8 times, mAP: 0.5340626908565099, acc: 0.5174802537873883\n",
      "---------------the evaluation dataloader---------------\n",
      "now using following mask: 0 freq, 0 time\n",
      "now using mix-up with rate 0.000000\n",
      "now process vggsound\n",
      "use dataset mean -5.080 and std 4.453 to normalize the input.\n",
      "number of classes is 309\n",
      "now using frame shift 10\n",
      "now using win size 25\n",
      "changing window size:  None\n"
     ]
    },
    {
     "name": "stderr",
     "output_type": "stream",
     "text": [
      "100%|██████████| 1288/1288 [00:26<00:00, 48.51it/s]\n"
     ]
    },
    {
     "name": "stdout",
     "output_type": "stream",
     "text": [
      "Mel-spec resolution is compressed 2.0 times, mAP: 0.53243904606959, acc: 0.5151495532824032\n",
      "---------------the evaluation dataloader---------------\n",
      "now using following mask: 0 freq, 0 time\n",
      "now using mix-up with rate 0.000000\n",
      "now process vggsound\n",
      "use dataset mean -5.080 and std 4.453 to normalize the input.\n",
      "number of classes is 309\n",
      "now using frame shift 10\n",
      "now using win size 25\n",
      "changing window size:  None\n"
     ]
    },
    {
     "name": "stderr",
     "output_type": "stream",
     "text": [
      "100%|██████████| 1288/1288 [00:26<00:00, 49.10it/s]\n"
     ]
    },
    {
     "name": "stdout",
     "output_type": "stream",
     "text": [
      "Mel-spec resolution is compressed 2.2 times, mAP: 0.5307271761010185, acc: 0.5160559368121197\n",
      "---------------the evaluation dataloader---------------\n",
      "now using following mask: 0 freq, 0 time\n",
      "now using mix-up with rate 0.000000\n",
      "now process vggsound\n",
      "use dataset mean -5.080 and std 4.453 to normalize the input.\n",
      "number of classes is 309\n",
      "now using frame shift 10\n",
      "now using win size 25\n",
      "changing window size:  None\n"
     ]
    },
    {
     "name": "stderr",
     "output_type": "stream",
     "text": [
      "100%|██████████| 1288/1288 [00:22<00:00, 56.54it/s]\n"
     ]
    },
    {
     "name": "stdout",
     "output_type": "stream",
     "text": [
      "Mel-spec resolution is compressed 2.4 times, mAP: 0.5256464589364953, acc: 0.5102291855496569\n",
      "---------------the evaluation dataloader---------------\n",
      "now using following mask: 0 freq, 0 time\n",
      "now using mix-up with rate 0.000000\n",
      "now process vggsound\n",
      "use dataset mean -5.080 and std 4.453 to normalize the input.\n",
      "number of classes is 309\n",
      "now using frame shift 10\n",
      "now using win size 25\n",
      "changing window size:  None\n"
     ]
    },
    {
     "name": "stderr",
     "output_type": "stream",
     "text": [
      "100%|██████████| 1288/1288 [00:23<00:00, 55.56it/s]\n"
     ]
    },
    {
     "name": "stdout",
     "output_type": "stream",
     "text": [
      "Mel-spec resolution is compressed 2.6 times, mAP: 0.5239723901759679, acc: 0.5074452932798136\n",
      "---------------the evaluation dataloader---------------\n",
      "now using following mask: 0 freq, 0 time\n",
      "now using mix-up with rate 0.000000\n",
      "now process vggsound\n",
      "use dataset mean -5.080 and std 4.453 to normalize the input.\n",
      "number of classes is 309\n",
      "now using frame shift 10\n",
      "now using win size 25\n",
      "changing window size:  None\n"
     ]
    },
    {
     "name": "stderr",
     "output_type": "stream",
     "text": [
      "100%|██████████| 1288/1288 [00:23<00:00, 55.79it/s]\n"
     ]
    },
    {
     "name": "stdout",
     "output_type": "stream",
     "text": [
      "Mel-spec resolution is compressed 2.8 times, mAP: 0.5201671016444754, acc: 0.5037550174802538\n",
      "---------------the evaluation dataloader---------------\n",
      "now using following mask: 0 freq, 0 time\n",
      "now using mix-up with rate 0.000000\n",
      "now process vggsound\n",
      "use dataset mean -5.080 and std 4.453 to normalize the input.\n",
      "number of classes is 309\n",
      "now using frame shift 10\n",
      "now using win size 25\n",
      "changing window size:  None\n"
     ]
    },
    {
     "name": "stderr",
     "output_type": "stream",
     "text": [
      "100%|██████████| 1288/1288 [00:20<00:00, 62.42it/s]\n"
     ]
    },
    {
     "name": "stdout",
     "output_type": "stream",
     "text": [
      "Mel-spec resolution is compressed 3.0 times, mAP: 0.5189766619834243, acc: 0.504143467564418\n",
      "---------------the evaluation dataloader---------------\n",
      "now using following mask: 0 freq, 0 time\n",
      "now using mix-up with rate 0.000000\n",
      "now process vggsound\n",
      "use dataset mean -5.080 and std 4.453 to normalize the input.\n",
      "number of classes is 309\n",
      "now using frame shift 10\n",
      "now using win size 25\n",
      "changing window size:  None\n"
     ]
    },
    {
     "name": "stderr",
     "output_type": "stream",
     "text": [
      "100%|██████████| 1288/1288 [00:22<00:00, 57.58it/s]\n"
     ]
    },
    {
     "name": "stdout",
     "output_type": "stream",
     "text": [
      "Mel-spec resolution is compressed 3.2 times, mAP: 0.5198822908390224, acc: 0.5030428589926195\n",
      "---------------the evaluation dataloader---------------\n",
      "now using following mask: 0 freq, 0 time\n",
      "now using mix-up with rate 0.000000\n",
      "now process vggsound\n",
      "use dataset mean -5.080 and std 4.453 to normalize the input.\n",
      "number of classes is 309\n",
      "now using frame shift 10\n",
      "now using win size 25\n",
      "changing window size:  None\n"
     ]
    },
    {
     "name": "stderr",
     "output_type": "stream",
     "text": [
      "100%|██████████| 1288/1288 [00:22<00:00, 58.16it/s]\n"
     ]
    },
    {
     "name": "stdout",
     "output_type": "stream",
     "text": [
      "Mel-spec resolution is compressed 3.4 times, mAP: 0.5107649723527983, acc: 0.4953385989900298\n",
      "---------------the evaluation dataloader---------------\n",
      "now using following mask: 0 freq, 0 time\n",
      "now using mix-up with rate 0.000000\n",
      "now process vggsound\n",
      "use dataset mean -5.080 and std 4.453 to normalize the input.\n",
      "number of classes is 309\n",
      "now using frame shift 10\n",
      "now using win size 25\n",
      "changing window size:  None\n"
     ]
    },
    {
     "name": "stderr",
     "output_type": "stream",
     "text": [
      "100%|██████████| 1288/1288 [00:20<00:00, 62.46it/s]\n"
     ]
    },
    {
     "name": "stdout",
     "output_type": "stream",
     "text": [
      "Mel-spec resolution is compressed 3.6 times, mAP: 0.504031482779413, acc: 0.49294315680435064\n",
      "---------------the evaluation dataloader---------------\n",
      "now using following mask: 0 freq, 0 time\n",
      "now using mix-up with rate 0.000000\n",
      "now process vggsound\n",
      "use dataset mean -5.080 and std 4.453 to normalize the input.\n",
      "number of classes is 309\n",
      "now using frame shift 10\n",
      "now using win size 25\n",
      "changing window size:  None\n"
     ]
    },
    {
     "name": "stderr",
     "output_type": "stream",
     "text": [
      "100%|██████████| 1288/1288 [00:21<00:00, 59.77it/s]\n"
     ]
    },
    {
     "name": "stdout",
     "output_type": "stream",
     "text": [
      "Mel-spec resolution is compressed 3.8 times, mAP: 0.5013848298012347, acc: 0.4880875307522983\n",
      "---------------the evaluation dataloader---------------\n",
      "now using following mask: 0 freq, 0 time\n",
      "now using mix-up with rate 0.000000\n",
      "now process vggsound\n",
      "use dataset mean -5.080 and std 4.453 to normalize the input.\n",
      "number of classes is 309\n",
      "now using frame shift 10\n",
      "now using win size 25\n",
      "changing window size:  None\n"
     ]
    },
    {
     "name": "stderr",
     "output_type": "stream",
     "text": [
      "100%|██████████| 1288/1288 [00:20<00:00, 63.67it/s]\n"
     ]
    },
    {
     "name": "stdout",
     "output_type": "stream",
     "text": [
      "Mel-spec resolution is compressed 4.0 times, mAP: 0.5004516561446459, acc: 0.48601579697008934\n",
      "[0.5244076136216497, 0.5269972808494109, 0.5234364884112391, 0.5239544218567914, 0.5174802537873883, 0.5151495532824032, 0.5160559368121197, 0.5102291855496569, 0.5074452932798136, 0.5037550174802538, 0.504143467564418, 0.5030428589926195, 0.4953385989900298, 0.49294315680435064, 0.4880875307522983, 0.48601579697008934]\n"
     ]
    }
   ],
   "source": [
    "import dataloader\n",
    "\n",
    "val_audio_conf = {'num_mel_bins': mel_bins, 'target_length': audio_length, 'freqm': 0, 'timem': 0, 'mixup': 0,\n",
    "                'dataset': dataset, 'mode': 'evaluation', 'mean': dataset_mean, 'std': dataset_std, 'noise': False,\n",
    "                'Fshift': Fshift,\"window_size\":window_size}\n",
    "\n",
    "quality_ratio = np.arange(1, 4.2, 0.2)\n",
    "\n",
    "quality_acc = []\n",
    "\n",
    "device = torch.device(\"cuda\" if torch.cuda.is_available() else \"cpu\")\n",
    "\n",
    "\n",
    "for q in quality_ratio:\n",
    "    q = round(q, 2)\n",
    "    val_loader = torch.utils.data.DataLoader(\n",
    "    dataloader.ElasticQuality_Dataset(data_val, label_csv=label_csv, audio_conf=val_audio_conf,quality_ratio=[q]),\n",
    "    batch_size=batch_size, shuffle=False, num_workers=8, pin_memory=True,collate_fn=dataloader.list_collate)\n",
    "\n",
    "    device = torch.device(\"cuda\" if torch.cuda.is_available() else \"cpu\")\n",
    "    model = model.to(device)\n",
    "    model.eval()\n",
    "    total_correct = 0\n",
    "    total_samples = 0\n",
    "    with torch.no_grad():\n",
    "        if not isinstance(model, nn.DataParallel):\n",
    "            model = nn.DataParallel(model)\n",
    "        A_predictions = []\n",
    "        A_targets = []\n",
    "        with tqdm(val_loader) as vepoch:\n",
    "            for data_items, labels in vepoch:\n",
    "                data_items, labels = data_items, labels\n",
    "                for i in range(len(data_items)):\n",
    "                    data_items[i] = data_items[i].to(device)\n",
    "\n",
    "                # max_seq_len=2048\n",
    "                max_seq_len=int(1024/q)\n",
    "                outputs = model(data_items,group_samples=True,group_max_seq_len=max_seq_len)\n",
    "                outputs = torch.sigmoid(outputs)\n",
    "                predictions = outputs.to('cpu').detach()\n",
    "\n",
    "                A_predictions.append(predictions)\n",
    "                A_targets.append(labels)\n",
    "\n",
    "                labels = labels.to(device)\n",
    "\n",
    "        outputs = torch.cat(A_predictions)\n",
    "        labels = torch.cat(A_targets)\n",
    "        stats = calculate_stats(outputs, labels)\n",
    "\n",
    "    mAP = np.mean([stat['AP'] for stat in stats])\n",
    "    acc = stats[0]['acc']\n",
    "    print(f\"Mel-spec resolution is compressed {q} times, mAP: {mAP}, acc: {acc}\")\n",
    "    quality_acc.append(acc)\n",
    "\n",
    "print(quality_acc)"
   ]
  },
  {
   "cell_type": "code",
   "execution_count": 3,
   "metadata": {},
   "outputs": [],
   "source": [
    "import numpy as np\n",
    "quality_ratio = np.arange(1, 4.2, 0.2)\n"
   ]
  },
  {
   "cell_type": "code",
   "execution_count": 4,
   "metadata": {},
   "outputs": [],
   "source": [
    "# What we obtained above is:\n",
    "elastic_ast = [0.5244076136216497, 0.5269972808494109, 0.5234364884112391, 0.5239544218567914, 0.5174802537873883, 0.5151495532824032, 0.5160559368121197, 0.5102291855496569, 0.5074452932798136, 0.5037550174802538, 0.504143467564418, 0.5030428589926195, 0.4953385989900298, 0.49294315680435064, 0.4880875307522983, 0.48601579697008934]\n",
    "\n",
    "# Belows are the baseline results from none-compressed to 4.0 times compressed\n",
    "baseline = [0.5302991066, 0.5141136864, 0.4816133627, 0.4716431439, 0.4370710864, 0.4135698563, 0.3881263758, 0.3679917131, 0.3454616082, 0.321766153, 0.2994950149, 0.2714618672, 0.2655703742, 0.2495791791, 0.2341706591, 0.2208986145]\n",
    "Fshfit20 = [0.4232163667, 0.4674996763, 0.4771461867, 0.4993525832, 0.493914282, 0.5167680953, 0.4865337304, 0.4863395054, 0.475268678, 0.4654279425, 0.4544865985, 0.4434157711, 0.4346756442, 0.4174543571, 0.4065130131, 0.3946652855]\n",
    "Fshift30 = [0.3413181406, 0.3959601191, 0.4287841512, 0.4514437395, 0.4531917649, 0.4814191376, 0.4858863136, 0.4950796323, 0.493720057, 0.4927489318, 0.4948206655, 0.487634339, 0.4867926971, 0.4799948207, 0.4753981613, 0.4686650265]\n",
    "Fshift40 = [0.2767059433, 0.33089473, 0.3639129872, 0.3966722776, 0.4074841383, 0.4382364366, 0.4500194225, 0.4667875178, 0.4728732358, 0.4772756701, 0.4776641202, 0.4690534766, 0.4820665544, 0.4828434546, 0.4840088049, 0.4862747637]"
   ]
  },
  {
   "cell_type": "markdown",
   "metadata": {},
   "source": [
    "# Visualization"
   ]
  },
  {
   "cell_type": "code",
   "execution_count": 6,
   "metadata": {},
   "outputs": [
    {
     "data": {
      "image/png": "[encoded data removed]",
      "text/plain": [
       "<Figure size 640x480 with 1 Axes>"
      ]
     },
     "metadata": {},
     "output_type": "display_data"
    }
   ],
   "source": [
    "# draw the plot\n",
    "import matplotlib.pyplot as plt\n",
    "\n",
    "plt.plot(quality_ratio, baseline, label=\"Baseline\",linestyle='--')\n",
    "plt.plot(quality_ratio, Fshfit20, label=\"Fshfit20\",linestyle=':')\n",
    "plt.plot(quality_ratio, Fshift30, label=\"Fshfit30\",linestyle='-')\n",
    "plt.plot(quality_ratio, Fshift40, label=\"Fshift40\",linestyle='-')\n",
    "plt.plot(quality_ratio, elastic_ast, label=\"ElasticAST\",linewidth=3)\n",
    "\n",
    "plt.legend()\n",
    "plt.xlabel(\"Compression rate\")\n",
    "plt.ylabel(\"Accuracy\")\n",
    "plt.title(\"Accuracy Across Different Compression Rates\")\n",
    "# show grid\n",
    "\n",
    "# set y-axis range\n",
    "plt.ylim(0.0, 0.75)\n",
    "\n",
    "plt.show()"
   ]
  },
  {
   "cell_type": "code",
   "execution_count": null,
   "metadata": {},
   "outputs": [],
   "source": []
  }
 ],
 "metadata": {
  "kernelspec": {
   "display_name": "flexiast2",
   "language": "python",
   "name": "python3"
  },
  "language_info": {
   "codemirror_mode": {
    "name": "ipython",
    "version": 3
   },
   "file_extension": ".py",
   "mimetype": "text/x-python",
   "name": "python",
   "nbconvert_exporter": "python",
   "pygments_lexer": "ipython3",
   "version": "3.8.16"
  }
 },
 "nbformat": 4,
 "nbformat_minor": 2
}

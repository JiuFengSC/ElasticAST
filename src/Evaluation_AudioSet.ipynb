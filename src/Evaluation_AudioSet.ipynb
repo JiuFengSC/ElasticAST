{
 "cells": [
  {
   "cell_type": "markdown",
   "metadata": {},
   "source": [
    "# ElasticAST evaluated on AudioSet\n",
    "All the evaluation logs can be observed below.\n",
    "\n",
    "When doing it your self, please change the directory accordingly.\n",
    "\n",
    "NOTE: AudioSet is a fixed-length dataset, and the experiments are used to measure the performance for **various resolution**.\n",
    "\n",
    "Here we use the results from seed A, which also shows at https://sites.google.com/view/elasticast-interpseech24\n",
    "\n",
    "## Create and load the model"
   ]
  },
  {
   "cell_type": "code",
   "execution_count": 1,
   "metadata": {},
   "outputs": [
    {
     "name": "stderr",
     "output_type": "stream",
     "text": [
      "/home/jfeng/anaconda3/envs/flexiast2/lib/python3.8/site-packages/tqdm/auto.py:22: TqdmWarning: IProgress not found. Please update jupyter and ipywidgets. See https://ipywidgets.readthedocs.io/en/stable/user_install.html\n",
      "  from .autonotebook import tqdm as notebook_tqdm\n"
     ]
    },
    {
     "data": {
      "text/plain": [
       "<All keys matched successfully>"
      ]
     },
     "execution_count": 1,
     "metadata": {},
     "output_type": "execute_result"
    }
   ],
   "source": [
    "import torch\n",
    "import os\n",
    "os.environ[\"CUDA_VISIBLE_DEVICES\"] = \"2\"\n",
    "\n",
    "from tqdm import tqdm\n",
    "\n",
    "\n",
    "from models import ElasticAST\n",
    "import numpy as nps\n",
    "from utilities import *\n",
    "\n",
    "batch_size = 12\n",
    "mel_bins = 128\n",
    "audio_length = 1024\n",
    "dataset = 'audioset'\n",
    "dataset_mean=-4.414\n",
    "dataset_std=4.905\n",
    "Fshift = 10\n",
    "window_size = 25\n",
    "data_val = '/home/jfeng/FJ/ElasticAST/egs/audioset/data/datafiles/eval.json'\n",
    "label_csv = '/home/jfeng/FJ/ElasticAST/egs/audioset/data/class_labels_indices.csv'\n",
    "class_num = 527\n",
    "\n",
    "model = ElasticAST(\n",
    "    sample_size = (mel_bins,int(audio_length/1)),\n",
    "    patch_size = 16,\n",
    "    num_classes = class_num,\n",
    "    dim = 768,\n",
    "    depth = 12,\n",
    "    heads = 12,\n",
    "    dropout = 0,\n",
    "    emb_dropout = 0,\n",
    "    token_dropout_prob = 0,  # token dropout of 10% (keep 90% of tokens)\n",
    "    channels=1,\n",
    ")\n",
    "\n",
    "\n",
    "model_load = \"/home/jfeng/FJ/ElasticAST/pretrain_weights/ElasticAST_AudioSet.pth\"\n",
    "\n",
    "\n",
    "out_dict = {}\n",
    "state_dict = torch.load(model_load,map_location=torch.device('cpu'))\n",
    "for k, v in state_dict.items(): # Adjust the name of dict\n",
    "    out_dict[k[7:]] = v\n",
    "model.load_state_dict(out_dict, strict=True)"
   ]
  },
  {
   "cell_type": "markdown",
   "metadata": {},
   "source": [
    "## Prepare for the datasets and evaluation pipelines."
   ]
  },
  {
   "cell_type": "code",
   "execution_count": 2,
   "metadata": {},
   "outputs": [
    {
     "name": "stderr",
     "output_type": "stream",
     "text": [
      "################################################################################\n",
      "### WARNING, path does not exist: KALDI_ROOT=/mnt/matylda5/iveselyk/Tools/kaldi-trunk\n",
      "###          (please add 'export KALDI_ROOT=<your_path>' in your $HOME/.profile)\n",
      "###          (or run as: KALDI_ROOT=<your_path> python <your_script>.py)\n",
      "################################################################################\n",
      "\n"
     ]
    },
    {
     "name": "stdout",
     "output_type": "stream",
     "text": [
      "---------------the evaluation dataloader---------------\n",
      "now using following mask: 0 freq, 0 time\n",
      "now using mix-up with rate 0.000000\n",
      "now process audioset\n",
      "use dataset mean -4.414 and std 4.905 to normalize the input.\n",
      "number of classes is 527\n",
      "now using frame shift 10\n",
      "now using win size 25\n",
      "changing window size:  None\n"
     ]
    },
    {
     "name": "stderr",
     "output_type": "stream",
     "text": [
      "100%|██████████| 1621/1621 [01:25<00:00, 19.07it/s]\n"
     ]
    },
    {
     "name": "stdout",
     "output_type": "stream",
     "text": [
      "Mel-spec resolution is compressed 1.0 times, mAP: 0.4204830992801962, acc: 0.46850089997428646\n",
      "---------------the evaluation dataloader---------------\n",
      "now using following mask: 0 freq, 0 time\n",
      "now using mix-up with rate 0.000000\n",
      "now process audioset\n",
      "use dataset mean -4.414 and std 4.905 to normalize the input.\n",
      "number of classes is 527\n",
      "now using frame shift 10\n",
      "now using win size 25\n",
      "changing window size:  None\n"
     ]
    },
    {
     "name": "stderr",
     "output_type": "stream",
     "text": [
      "100%|██████████| 1621/1621 [01:21<00:00, 19.78it/s]\n"
     ]
    },
    {
     "name": "stdout",
     "output_type": "stream",
     "text": [
      "Mel-spec resolution is compressed 1.2 times, mAP: 0.4200342937891903, acc: 0.4670095140138853\n",
      "---------------the evaluation dataloader---------------\n",
      "now using following mask: 0 freq, 0 time\n",
      "now using mix-up with rate 0.000000\n",
      "now process audioset\n",
      "use dataset mean -4.414 and std 4.905 to normalize the input.\n",
      "number of classes is 527\n",
      "now using frame shift 10\n",
      "now using win size 25\n",
      "changing window size:  None\n"
     ]
    },
    {
     "name": "stderr",
     "output_type": "stream",
     "text": [
      "100%|██████████| 1621/1621 [01:14<00:00, 21.83it/s]\n"
     ]
    },
    {
     "name": "stdout",
     "output_type": "stream",
     "text": [
      "Mel-spec resolution is compressed 1.4 times, mAP: 0.41923722569493915, acc: 0.4673695037284649\n",
      "---------------the evaluation dataloader---------------\n",
      "now using following mask: 0 freq, 0 time\n",
      "now using mix-up with rate 0.000000\n",
      "now process audioset\n",
      "use dataset mean -4.414 and std 4.905 to normalize the input.\n",
      "number of classes is 527\n",
      "now using frame shift 10\n",
      "now using win size 25\n",
      "changing window size:  None\n"
     ]
    },
    {
     "name": "stderr",
     "output_type": "stream",
     "text": [
      "100%|██████████| 1621/1621 [01:09<00:00, 23.32it/s]\n"
     ]
    },
    {
     "name": "stdout",
     "output_type": "stream",
     "text": [
      "Mel-spec resolution is compressed 1.6 times, mAP: 0.4161738930529736, acc: 0.46608382617639493\n",
      "---------------the evaluation dataloader---------------\n",
      "now using following mask: 0 freq, 0 time\n",
      "now using mix-up with rate 0.000000\n",
      "now process audioset\n",
      "use dataset mean -4.414 and std 4.905 to normalize the input.\n",
      "number of classes is 527\n",
      "now using frame shift 10\n",
      "now using win size 25\n",
      "changing window size:  None\n"
     ]
    },
    {
     "name": "stderr",
     "output_type": "stream",
     "text": [
      "100%|██████████| 1621/1621 [01:05<00:00, 24.93it/s]\n"
     ]
    },
    {
     "name": "stdout",
     "output_type": "stream",
     "text": [
      "Mel-spec resolution is compressed 1.8 times, mAP: 0.41476290311460934, acc: 0.4654667009514014\n",
      "---------------the evaluation dataloader---------------\n",
      "now using following mask: 0 freq, 0 time\n",
      "now using mix-up with rate 0.000000\n",
      "now process audioset\n",
      "use dataset mean -4.414 and std 4.905 to normalize the input.\n",
      "number of classes is 527\n",
      "now using frame shift 10\n",
      "now using win size 25\n",
      "changing window size:  None\n"
     ]
    },
    {
     "name": "stderr",
     "output_type": "stream",
     "text": [
      "100%|██████████| 1621/1621 [01:01<00:00, 26.33it/s]\n"
     ]
    },
    {
     "name": "stdout",
     "output_type": "stream",
     "text": [
      "Mel-spec resolution is compressed 2.0 times, mAP: 0.41334498585215684, acc: 0.4675752121367961\n",
      "---------------the evaluation dataloader---------------\n",
      "now using following mask: 0 freq, 0 time\n",
      "now using mix-up with rate 0.000000\n",
      "now process audioset\n",
      "use dataset mean -4.414 and std 4.905 to normalize the input.\n",
      "number of classes is 527\n",
      "now using frame shift 10\n",
      "now using win size 25\n",
      "changing window size:  None\n"
     ]
    },
    {
     "name": "stderr",
     "output_type": "stream",
     "text": [
      "100%|██████████| 1621/1621 [00:57<00:00, 28.09it/s]\n"
     ]
    },
    {
     "name": "stdout",
     "output_type": "stream",
     "text": [
      "Mel-spec resolution is compressed 2.2 times, mAP: 0.40850652543962596, acc: 0.46603239907431215\n",
      "---------------the evaluation dataloader---------------\n",
      "now using following mask: 0 freq, 0 time\n",
      "now using mix-up with rate 0.000000\n",
      "now process audioset\n",
      "use dataset mean -4.414 and std 4.905 to normalize the input.\n",
      "number of classes is 527\n",
      "now using frame shift 10\n",
      "now using win size 25\n",
      "changing window size:  None\n"
     ]
    },
    {
     "name": "stderr",
     "output_type": "stream",
     "text": [
      "100%|██████████| 1621/1621 [00:54<00:00, 29.79it/s]\n"
     ]
    },
    {
     "name": "stdout",
     "output_type": "stream",
     "text": [
      "Mel-spec resolution is compressed 2.4 times, mAP: 0.40767443552856425, acc: 0.46294677294934433\n",
      "---------------the evaluation dataloader---------------\n",
      "now using following mask: 0 freq, 0 time\n",
      "now using mix-up with rate 0.000000\n",
      "now process audioset\n",
      "use dataset mean -4.414 and std 4.905 to normalize the input.\n",
      "number of classes is 527\n",
      "now using frame shift 10\n",
      "now using win size 25\n",
      "changing window size:  None\n"
     ]
    },
    {
     "name": "stderr",
     "output_type": "stream",
     "text": [
      "100%|██████████| 1621/1621 [00:51<00:00, 31.74it/s]\n"
     ]
    },
    {
     "name": "stdout",
     "output_type": "stream",
     "text": [
      "Mel-spec resolution is compressed 2.6 times, mAP: 0.4055956871785525, acc: 0.46443815890974544\n",
      "---------------the evaluation dataloader---------------\n",
      "now using following mask: 0 freq, 0 time\n",
      "now using mix-up with rate 0.000000\n",
      "now process audioset\n",
      "use dataset mean -4.414 and std 4.905 to normalize the input.\n",
      "number of classes is 527\n",
      "now using frame shift 10\n",
      "now using win size 25\n",
      "changing window size:  None\n"
     ]
    },
    {
     "name": "stderr",
     "output_type": "stream",
     "text": [
      "100%|██████████| 1621/1621 [00:49<00:00, 32.71it/s]\n"
     ]
    },
    {
     "name": "stdout",
     "output_type": "stream",
     "text": [
      "Mel-spec resolution is compressed 2.8 times, mAP: 0.4014891746022721, acc: 0.46454101311391105\n",
      "---------------the evaluation dataloader---------------\n",
      "now using following mask: 0 freq, 0 time\n",
      "now using mix-up with rate 0.000000\n",
      "now process audioset\n",
      "use dataset mean -4.414 and std 4.905 to normalize the input.\n",
      "number of classes is 527\n",
      "now using frame shift 10\n",
      "now using win size 25\n",
      "changing window size:  None\n"
     ]
    },
    {
     "name": "stderr",
     "output_type": "stream",
     "text": [
      "100%|██████████| 1621/1621 [00:48<00:00, 33.16it/s]\n"
     ]
    },
    {
     "name": "stdout",
     "output_type": "stream",
     "text": [
      "Mel-spec resolution is compressed 3.0 times, mAP: 0.4000271564416957, acc: 0.46176394960143996\n",
      "---------------the evaluation dataloader---------------\n",
      "now using following mask: 0 freq, 0 time\n",
      "now using mix-up with rate 0.000000\n",
      "now process audioset\n",
      "use dataset mean -4.414 and std 4.905 to normalize the input.\n",
      "number of classes is 527\n",
      "now using frame shift 10\n",
      "now using win size 25\n",
      "changing window size:  None\n"
     ]
    },
    {
     "name": "stderr",
     "output_type": "stream",
     "text": [
      "100%|██████████| 1621/1621 [00:48<00:00, 33.25it/s]\n"
     ]
    },
    {
     "name": "stdout",
     "output_type": "stream",
     "text": [
      "Mel-spec resolution is compressed 3.2 times, mAP: 0.3969780363151855, acc: 0.461249678580612\n",
      "---------------the evaluation dataloader---------------\n",
      "now using following mask: 0 freq, 0 time\n",
      "now using mix-up with rate 0.000000\n",
      "now process audioset\n",
      "use dataset mean -4.414 and std 4.905 to normalize the input.\n",
      "number of classes is 527\n",
      "now using frame shift 10\n",
      "now using win size 25\n",
      "changing window size:  None\n"
     ]
    },
    {
     "name": "stderr",
     "output_type": "stream",
     "text": [
      "100%|██████████| 1621/1621 [00:47<00:00, 34.39it/s]\n"
     ]
    },
    {
     "name": "stdout",
     "output_type": "stream",
     "text": [
      "Mel-spec resolution is compressed 3.4 times, mAP: 0.3918144501005082, acc: 0.45975829262021084\n",
      "---------------the evaluation dataloader---------------\n",
      "now using following mask: 0 freq, 0 time\n",
      "now using mix-up with rate 0.000000\n",
      "now process audioset\n",
      "use dataset mean -4.414 and std 4.905 to normalize the input.\n",
      "number of classes is 527\n",
      "now using frame shift 10\n",
      "now using win size 25\n",
      "changing window size:  None\n"
     ]
    },
    {
     "name": "stderr",
     "output_type": "stream",
     "text": [
      "100%|██████████| 1621/1621 [00:47<00:00, 34.23it/s]\n"
     ]
    },
    {
     "name": "stdout",
     "output_type": "stream",
     "text": [
      "Mel-spec resolution is compressed 3.6 times, mAP: 0.39005137282590713, acc: 0.45914116739521726\n",
      "---------------the evaluation dataloader---------------\n",
      "now using following mask: 0 freq, 0 time\n",
      "now using mix-up with rate 0.000000\n",
      "now process audioset\n",
      "use dataset mean -4.414 and std 4.905 to normalize the input.\n",
      "number of classes is 527\n",
      "now using frame shift 10\n",
      "now using win size 25\n",
      "changing window size:  None\n"
     ]
    },
    {
     "name": "stderr",
     "output_type": "stream",
     "text": [
      "100%|██████████| 1621/1621 [00:46<00:00, 34.96it/s]\n"
     ]
    },
    {
     "name": "stdout",
     "output_type": "stream",
     "text": [
      "Mel-spec resolution is compressed 3.8 times, mAP: 0.38598379094485763, acc: 0.45811262535356134\n",
      "---------------the evaluation dataloader---------------\n",
      "now using following mask: 0 freq, 0 time\n",
      "now using mix-up with rate 0.000000\n",
      "now process audioset\n",
      "use dataset mean -4.414 and std 4.905 to normalize the input.\n",
      "number of classes is 527\n",
      "now using frame shift 10\n",
      "now using win size 25\n",
      "changing window size:  None\n"
     ]
    },
    {
     "name": "stderr",
     "output_type": "stream",
     "text": [
      "100%|██████████| 1621/1621 [00:45<00:00, 35.27it/s]\n"
     ]
    },
    {
     "name": "stdout",
     "output_type": "stream",
     "text": [
      "Mel-spec resolution is compressed 4.0 times, mAP: 0.3865883194609716, acc: 0.4581640524556441\n",
      "[0.4204830992801962, 0.4200342937891903, 0.41923722569493915, 0.4161738930529736, 0.41476290311460934, 0.41334498585215684, 0.40850652543962596, 0.40767443552856425, 0.4055956871785525, 0.4014891746022721, 0.4000271564416957, 0.3969780363151855, 0.3918144501005082, 0.39005137282590713, 0.38598379094485763, 0.3865883194609716]\n"
     ]
    }
   ],
   "source": [
    "import dataloader\n",
    "\n",
    "quality_ratio = np.arange(1, 4.2, 0.2)\n",
    "quality_acc = []\n",
    "\n",
    "val_audio_conf = {'num_mel_bins': mel_bins, 'target_length': audio_length, 'freqm': 0, 'timem': 0, 'mixup': 0,\n",
    "                'dataset': dataset, 'mode': 'evaluation', 'mean': dataset_mean, 'std': dataset_std, 'noise': False,\n",
    "                'Fshift': Fshift,\"window_size\":window_size}\n",
    "\n",
    "for q in quality_ratio:\n",
    "    # keep q two decimal places\n",
    "    q = round(q, 2)\n",
    "    val_loader = torch.utils.data.DataLoader(\n",
    "    dataloader.ElasticQuality_Dataset(data_val, label_csv=label_csv, audio_conf=val_audio_conf,quality_ratio=[q]),\n",
    "    batch_size=batch_size, shuffle=False, num_workers=8, pin_memory=True,collate_fn=dataloader.list_collate)\n",
    "\n",
    "    device = torch.device(\"cuda\" if torch.cuda.is_available() else \"cpu\")\n",
    "    model = model.to(device)\n",
    "    model.eval()\n",
    "    total_correct = 0\n",
    "    total_samples = 0\n",
    "    with torch.no_grad():\n",
    "            if not isinstance(model, nn.DataParallel):\n",
    "                model = nn.DataParallel(model)\n",
    "            A_predictions = []\n",
    "            A_targets = []\n",
    "            with tqdm(val_loader) as vepoch:\n",
    "                for data_items, labels in vepoch:\n",
    "                    data_items, labels = data_items, labels\n",
    "                    for i in range(len(data_items)):\n",
    "                        data_items[i] = data_items[i].to(device)\n",
    "\n",
    "                    # max_seq_len=2048\n",
    "                    max_seq_len=int(1024/q)\n",
    "                    outputs = model(data_items,group_samples=True,group_max_seq_len=max_seq_len)\n",
    "                    outputs = torch.sigmoid(outputs)\n",
    "                    predictions = outputs.to('cpu').detach()\n",
    "\n",
    "                    A_predictions.append(predictions)\n",
    "                    A_targets.append(labels)\n",
    "\n",
    "                    labels = labels.to(device)\n",
    "\n",
    "            outputs = torch.cat(A_predictions)\n",
    "            labels = torch.cat(A_targets)\n",
    "            stats = calculate_stats(outputs, labels)\n",
    "\n",
    "\n",
    "    mAP = np.mean([stat['AP'] for stat in stats])\n",
    "    acc = stats[0]['acc']\n",
    "    print(f\"Mel-spec resolution is compressed {q} times, mAP: {mAP}, acc: {acc}\")\n",
    "    quality_acc.append(mAP)\n",
    "\n",
    "print(quality_acc)"
   ]
  },
  {
   "cell_type": "code",
   "execution_count": 3,
   "metadata": {},
   "outputs": [],
   "source": [
    "# What we obtained above is:\n",
    "elastic_ast = [0.4204830992801962, 0.4200342937891903, 0.41923722569493915, 0.4161738930529736, 0.41476290311460934, 0.41334498585215684, 0.40850652543962596, 0.40767443552856425, 0.4055956871785525, 0.4014891746022721, 0.4000271564416957, 0.3969780363151855, 0.3918144501005082, 0.39005137282590713, 0.38598379094485763, 0.3865883194609716]\n",
    "\n",
    "# Belows are the baseline results from none-compressed to 4.0 times compressed\n",
    "baseline = [0.4294617775, 0.4162106789, 0.3963454136, 0.3698440543, 0.3454094248, 0.3204185072, 0.2954269518, 0.2698783128, 0.2513895927, 0.2295260227, 0.2135688621, 0.1956920208, 0.1809978982, 0.1663811215, 0.151214804, 0.146131303]\n",
    "Fshfit20 = [0.3638200337, 0.3914474495, 0.406512784, 0.4117797019, 0.4128535667, 0.4134793013, 0.4072293217, 0.3981825421, 0.390067204, 0.3788337435, 0.3712013325, 0.3573317335, 0.3451375867, 0.3320326804, 0.3170868545, 0.3117024945]\n",
    "Fshift30 = [0.2918603365, 0.3308459238, 0.351905946, 0.3681601669, 0.378947318, 0.3850965782, 0.3872893068, 0.3924274608, 0.3945658966, 0.393116525, 0.3955847334, 0.388482243, 0.3838859558, 0.379222377, 0.3726121138, 0.3695659573]\n",
    "Fshift40 = [0.2323779039, 0.2713271771, 0.2980943315, 0.3188796375, 0.3359972997, 0.3467561276, 0.3548366116, 0.3624687912, 0.3677172653, 0.3711789596, 0.377853095, 0.3777529031, 0.3760302884, 0.3747662761, 0.3731927889, 0.3787472746]"
   ]
  },
  {
   "cell_type": "markdown",
   "metadata": {},
   "source": [
    "# Visualization"
   ]
  },
  {
   "cell_type": "code",
   "execution_count": 5,
   "metadata": {},
   "outputs": [
    {
     "data": {
      "image/png": "[encoded data removed]",
      "text/plain": [
       "<Figure size 640x480 with 1 Axes>"
      ]
     },
     "metadata": {},
     "output_type": "display_data"
    }
   ],
   "source": [
    "# draw the plot\n",
    "import matplotlib.pyplot as plt\n",
    "\n",
    "plt.plot(quality_ratio, baseline, label=\"Baseline\",linestyle='--')\n",
    "plt.plot(quality_ratio, Fshfit20, label=\"Fshfit20\",linestyle=':')\n",
    "plt.plot(quality_ratio, Fshift30, label=\"Fshfit30\",linestyle='-')\n",
    "plt.plot(quality_ratio, Fshift40, label=\"Fshift40\",linestyle='-')\n",
    "plt.plot(quality_ratio, elastic_ast, label=\"ElasticAST\",linewidth=3)\n",
    "\n",
    "plt.legend()\n",
    "plt.xlabel(\"Compression rate\")\n",
    "plt.ylabel(\"mAP\")\n",
    "plt.title(\"Accuracy Across Different Compression Rates\")\n",
    "# show grid\n",
    "\n",
    "# set y-axis range\n",
    "plt.ylim(0.0, 0.6)\n",
    "\n",
    "plt.show()"
   ]
  }
 ],
 "metadata": {
  "kernelspec": {
   "display_name": "flexiast2",
   "language": "python",
   "name": "python3"
  },
  "language_info": {
   "codemirror_mode": {
    "name": "ipython",
    "version": 3
   },
   "file_extension": ".py",
   "mimetype": "text/x-python",
   "name": "python",
   "nbconvert_exporter": "python",
   "pygments_lexer": "ipython3",
   "version": "3.8.16"
  }
 },
 "nbformat": 4,
 "nbformat_minor": 2
}

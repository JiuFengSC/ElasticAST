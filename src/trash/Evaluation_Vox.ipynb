{
 "cells": [
  {
   "cell_type": "markdown",
   "metadata": {},
   "source": [
    "# ElasticAST evaluated on VoxCeleb\n",
    "All the evaluation logs can be observed below.\n",
    "\n",
    "When doing it your self, please change the directory accordingly."
   ]
  },
  {
   "cell_type": "code",
   "execution_count": 1,
   "metadata": {},
   "outputs": [
    {
     "name": "stderr",
     "output_type": "stream",
     "text": [
      "/home/jfeng/anaconda3/envs/flexiast2/lib/python3.8/site-packages/tqdm/auto.py:22: TqdmWarning: IProgress not found. Please update jupyter and ipywidgets. See https://ipywidgets.readthedocs.io/en/stable/user_install.html\n",
      "  from .autonotebook import tqdm as notebook_tqdm\n",
      "################################################################################\n",
      "### WARNING, path does not exist: KALDI_ROOT=/mnt/matylda5/iveselyk/Tools/kaldi-trunk\n",
      "###          (please add 'export KALDI_ROOT=<your_path>' in your $HOME/.profile)\n",
      "###          (or run as: KALDI_ROOT=<your_path> python <your_script>.py)\n",
      "################################################################################\n",
      "\n"
     ]
    },
    {
     "data": {
      "text/plain": [
       "<All keys matched successfully>"
      ]
     },
     "execution_count": 1,
     "metadata": {},
     "output_type": "execute_result"
    }
   ],
   "source": [
    "import torch\n",
    "import os\n",
    "os.environ[\"CUDA_VISIBLE_DEVICES\"] = \"2\"\n",
    "\n",
    "from tqdm import tqdm\n",
    "\n",
    "\n",
    "from models import FlexiAST_V2\n",
    "import numpy as nps\n",
    "from utilities import *\n",
    "\n",
    "model = FlexiAST_V2(\n",
    "    sample_size = (128,3072),\n",
    "    patch_size = 16,\n",
    "    num_classes = 1251,\n",
    "    dim = 768,\n",
    "    depth = 12,\n",
    "    heads = 12,\n",
    "    dropout = 0,\n",
    "    emb_dropout = 0,\n",
    "    token_dropout_prob = 0,  # token dropout of 10% (keep 90% of tokens)\n",
    "    channels=1,\n",
    ")\n",
    "\n",
    "\n",
    "model_load = \"/mnt/bear1/users/fj/FlexiAST_V2/flexiast2/voxceleb/VoxCeleb_flexi_len_pretrained-5-1-0.75-max3072-weightedNorm-SSAST-mid_norm/models/audio_model.30.pth\"\n",
    "\n",
    "out_dict = {}\n",
    "state_dict = torch.load(model_load,map_location=torch.device('cpu'))\n",
    "for k, v in state_dict.items(): # Adjust the name of dict\n",
    "    out_dict[k[7:]] = v\n",
    "model.load_state_dict(out_dict, strict=True)"
   ]
  },
  {
   "cell_type": "code",
   "execution_count": 2,
   "metadata": {},
   "outputs": [
    {
     "name": "stdout",
     "output_type": "stream",
     "text": [
      "---------------the evaluation dataloader---------------\n",
      "now using following mask: 0 freq, 0 time\n",
      "now using mix-up with rate 0.000000\n",
      "now process voxceleb\n",
      "use dataset mean -5.843 and std 3.883 to normalize the input.\n",
      "number of classes is 1251\n",
      "now using frame shift 10\n",
      "now using win size 25\n",
      "changing window size:  None\n"
     ]
    },
    {
     "name": "stderr",
     "output_type": "stream",
     "text": [
      "100%|██████████| 344/344 [00:18<00:00, 18.77it/s]\n"
     ]
    },
    {
     "name": "stdout",
     "output_type": "stream",
     "text": [
      "Quality ratio: 256, mAP: 0.41682441901184614, acc: 0.44661253181432553\n",
      "---------------the evaluation dataloader---------------\n",
      "now using following mask: 0 freq, 0 time\n",
      "now using mix-up with rate 0.000000\n",
      "now process voxceleb\n",
      "use dataset mean -5.843 and std 3.883 to normalize the input.\n",
      "number of classes is 1251\n",
      "now using frame shift 10\n",
      "now using win size 25\n",
      "changing window size:  None\n"
     ]
    },
    {
     "name": "stderr",
     "output_type": "stream",
     "text": [
      "100%|██████████| 344/344 [00:22<00:00, 15.47it/s]\n"
     ]
    },
    {
     "name": "stdout",
     "output_type": "stream",
     "text": [
      "Quality ratio: 384, mAP: 0.5017860764529434, acc: 0.5235729002545146\n",
      "---------------the evaluation dataloader---------------\n",
      "now using following mask: 0 freq, 0 time\n",
      "now using mix-up with rate 0.000000\n",
      "now process voxceleb\n",
      "use dataset mean -5.843 and std 3.883 to normalize the input.\n",
      "number of classes is 1251\n",
      "now using frame shift 10\n",
      "now using win size 25\n",
      "changing window size:  None\n"
     ]
    },
    {
     "name": "stderr",
     "output_type": "stream",
     "text": [
      "100%|██████████| 344/344 [00:23<00:00, 14.57it/s]\n"
     ]
    },
    {
     "name": "stdout",
     "output_type": "stream",
     "text": [
      "Quality ratio: 400, mAP: 0.505423775092782, acc: 0.532420312689371\n",
      "---------------the evaluation dataloader---------------\n",
      "now using following mask: 0 freq, 0 time\n",
      "now using mix-up with rate 0.000000\n",
      "now process voxceleb\n",
      "use dataset mean -5.843 and std 3.883 to normalize the input.\n",
      "number of classes is 1251\n",
      "now using frame shift 10\n",
      "now using win size 25\n",
      "changing window size:  None\n"
     ]
    },
    {
     "name": "stderr",
     "output_type": "stream",
     "text": [
      "100%|██████████| 344/344 [00:23<00:00, 14.50it/s]\n"
     ]
    },
    {
     "name": "stdout",
     "output_type": "stream",
     "text": [
      "Quality ratio: 512, mAP: 0.5364033649251138, acc: 0.5607805114531572\n",
      "---------------the evaluation dataloader---------------\n",
      "now using following mask: 0 freq, 0 time\n",
      "now using mix-up with rate 0.000000\n",
      "now process voxceleb\n",
      "use dataset mean -5.843 and std 3.883 to normalize the input.\n",
      "number of classes is 1251\n",
      "now using frame shift 10\n",
      "now using win size 25\n",
      "changing window size:  None\n"
     ]
    },
    {
     "name": "stderr",
     "output_type": "stream",
     "text": [
      "100%|██████████| 344/344 [00:30<00:00, 11.35it/s]\n"
     ]
    },
    {
     "name": "stdout",
     "output_type": "stream",
     "text": [
      "Quality ratio: 640, mAP: 0.5489534916408808, acc: 0.5715670827778451\n",
      "---------------the evaluation dataloader---------------\n",
      "now using following mask: 0 freq, 0 time\n",
      "now using mix-up with rate 0.000000\n",
      "now process voxceleb\n",
      "use dataset mean -5.843 and std 3.883 to normalize the input.\n",
      "number of classes is 1251\n",
      "now using frame shift 10\n",
      "now using win size 25\n",
      "changing window size:  None\n"
     ]
    },
    {
     "name": "stderr",
     "output_type": "stream",
     "text": [
      "100%|██████████| 344/344 [00:31<00:00, 10.88it/s]\n"
     ]
    },
    {
     "name": "stdout",
     "output_type": "stream",
     "text": [
      "Quality ratio: 768, mAP: 0.5550744134528538, acc: 0.580050902920858\n",
      "---------------the evaluation dataloader---------------\n",
      "now using following mask: 0 freq, 0 time\n",
      "now using mix-up with rate 0.000000\n",
      "now process voxceleb\n",
      "use dataset mean -5.843 and std 3.883 to normalize the input.\n",
      "number of classes is 1251\n",
      "now using frame shift 10\n",
      "now using win size 25\n",
      "changing window size:  None\n"
     ]
    },
    {
     "name": "stderr",
     "output_type": "stream",
     "text": [
      "100%|██████████| 344/344 [00:33<00:00, 10.13it/s]\n"
     ]
    },
    {
     "name": "stdout",
     "output_type": "stream",
     "text": [
      "Quality ratio: 896, mAP: 0.559511351440597, acc: 0.588534723063871\n",
      "---------------the evaluation dataloader---------------\n",
      "now using following mask: 0 freq, 0 time\n",
      "now using mix-up with rate 0.000000\n",
      "now process voxceleb\n",
      "use dataset mean -5.843 and std 3.883 to normalize the input.\n",
      "number of classes is 1251\n",
      "now using frame shift 10\n",
      "now using win size 25\n",
      "changing window size:  None\n"
     ]
    },
    {
     "name": "stderr",
     "output_type": "stream",
     "text": [
      "100%|██████████| 344/344 [00:35<00:00,  9.71it/s]\n"
     ]
    },
    {
     "name": "stdout",
     "output_type": "stream",
     "text": [
      "Quality ratio: 1024, mAP: 0.5627356007179496, acc: 0.5893831050781724\n",
      "---------------the evaluation dataloader---------------\n",
      "now using following mask: 0 freq, 0 time\n",
      "now using mix-up with rate 0.000000\n",
      "now process voxceleb\n",
      "use dataset mean -5.843 and std 3.883 to normalize the input.\n",
      "number of classes is 1251\n",
      "now using frame shift 10\n",
      "now using win size 25\n",
      "changing window size:  None\n"
     ]
    },
    {
     "name": "stderr",
     "output_type": "stream",
     "text": [
      "100%|██████████| 344/344 [00:36<00:00,  9.46it/s]\n"
     ]
    },
    {
     "name": "stdout",
     "output_type": "stream",
     "text": [
      "Quality ratio: 1152, mAP: 0.5651300903254801, acc: 0.5924130408435341\n",
      "---------------the evaluation dataloader---------------\n",
      "now using following mask: 0 freq, 0 time\n",
      "now using mix-up with rate 0.000000\n",
      "now process voxceleb\n",
      "use dataset mean -5.843 and std 3.883 to normalize the input.\n",
      "number of classes is 1251\n",
      "now using frame shift 10\n",
      "now using win size 25\n",
      "changing window size:  None\n"
     ]
    },
    {
     "name": "stderr",
     "output_type": "stream",
     "text": [
      "100%|██████████| 344/344 [00:37<00:00,  9.27it/s]\n"
     ]
    },
    {
     "name": "stdout",
     "output_type": "stream",
     "text": [
      "Quality ratio: 1280, mAP: 0.5673391111064641, acc: 0.5935038177190644\n",
      "---------------the evaluation dataloader---------------\n",
      "now using following mask: 0 freq, 0 time\n",
      "now using mix-up with rate 0.000000\n",
      "now process voxceleb\n",
      "use dataset mean -5.843 and std 3.883 to normalize the input.\n",
      "number of classes is 1251\n",
      "now using frame shift 10\n",
      "now using win size 25\n",
      "changing window size:  None\n"
     ]
    },
    {
     "name": "stderr",
     "output_type": "stream",
     "text": [
      "100%|██████████| 344/344 [00:37<00:00,  9.09it/s]\n"
     ]
    },
    {
     "name": "stdout",
     "output_type": "stream",
     "text": [
      "Quality ratio: 1408, mAP: 0.568797238726387, acc: 0.5944733971639802\n",
      "---------------the evaluation dataloader---------------\n",
      "now using following mask: 0 freq, 0 time\n",
      "now using mix-up with rate 0.000000\n",
      "now process voxceleb\n",
      "use dataset mean -5.843 and std 3.883 to normalize the input.\n",
      "number of classes is 1251\n",
      "now using frame shift 10\n",
      "now using win size 25\n",
      "changing window size:  None\n"
     ]
    },
    {
     "name": "stderr",
     "output_type": "stream",
     "text": [
      "100%|██████████| 344/344 [00:38<00:00,  8.93it/s]\n"
     ]
    },
    {
     "name": "stdout",
     "output_type": "stream",
     "text": [
      "Quality ratio: 1536, mAP: 0.5681480087442848, acc: 0.5947157920252091\n",
      "---------------the evaluation dataloader---------------\n",
      "now using following mask: 0 freq, 0 time\n",
      "now using mix-up with rate 0.000000\n",
      "now process voxceleb\n",
      "use dataset mean -5.843 and std 3.883 to normalize the input.\n",
      "number of classes is 1251\n",
      "now using frame shift 10\n",
      "now using win size 25\n",
      "changing window size:  None\n"
     ]
    },
    {
     "name": "stderr",
     "output_type": "stream",
     "text": [
      "100%|██████████| 344/344 [00:38<00:00,  8.87it/s]\n"
     ]
    },
    {
     "name": "stdout",
     "output_type": "stream",
     "text": [
      "Quality ratio: 1600, mAP: 0.5679405972962246, acc: 0.5948369894558235\n",
      "---------------the evaluation dataloader---------------\n",
      "now using following mask: 0 freq, 0 time\n",
      "now using mix-up with rate 0.000000\n",
      "now process voxceleb\n",
      "use dataset mean -5.843 and std 3.883 to normalize the input.\n",
      "number of classes is 1251\n",
      "now using frame shift 10\n",
      "now using win size 25\n",
      "changing window size:  None\n"
     ]
    },
    {
     "name": "stderr",
     "output_type": "stream",
     "text": [
      "100%|██████████| 344/344 [00:39<00:00,  8.82it/s]\n"
     ]
    },
    {
     "name": "stdout",
     "output_type": "stream",
     "text": [
      "Quality ratio: 1664, mAP: 0.567893242943443, acc: 0.5943521997333656\n",
      "---------------the evaluation dataloader---------------\n",
      "now using following mask: 0 freq, 0 time\n",
      "now using mix-up with rate 0.000000\n",
      "now process voxceleb\n",
      "use dataset mean -5.843 and std 3.883 to normalize the input.\n",
      "number of classes is 1251\n",
      "now using frame shift 10\n",
      "now using win size 25\n",
      "changing window size:  None\n"
     ]
    },
    {
     "name": "stderr",
     "output_type": "stream",
     "text": [
      "100%|██████████| 344/344 [00:39<00:00,  8.72it/s]\n"
     ]
    },
    {
     "name": "stdout",
     "output_type": "stream",
     "text": [
      "Quality ratio: 1792, mAP: 0.5685620358253537, acc: 0.5945945945945946\n",
      "---------------the evaluation dataloader---------------\n",
      "now using following mask: 0 freq, 0 time\n",
      "now using mix-up with rate 0.000000\n",
      "now process voxceleb\n",
      "use dataset mean -5.843 and std 3.883 to normalize the input.\n",
      "number of classes is 1251\n",
      "now using frame shift 10\n",
      "now using win size 25\n",
      "changing window size:  None\n"
     ]
    },
    {
     "name": "stderr",
     "output_type": "stream",
     "text": [
      "100%|██████████| 344/344 [00:39<00:00,  8.66it/s]\n"
     ]
    },
    {
     "name": "stdout",
     "output_type": "stream",
     "text": [
      "Quality ratio: 1920, mAP: 0.5684342929503999, acc: 0.5943521997333656\n",
      "---------------the evaluation dataloader---------------\n",
      "now using following mask: 0 freq, 0 time\n",
      "now using mix-up with rate 0.000000\n",
      "now process voxceleb\n",
      "use dataset mean -5.843 and std 3.883 to normalize the input.\n",
      "number of classes is 1251\n",
      "now using frame shift 10\n",
      "now using win size 25\n",
      "changing window size:  None\n"
     ]
    },
    {
     "name": "stderr",
     "output_type": "stream",
     "text": [
      "100%|██████████| 344/344 [00:39<00:00,  8.62it/s]\n"
     ]
    },
    {
     "name": "stdout",
     "output_type": "stream",
     "text": [
      "Quality ratio: 2048, mAP: 0.5685657040325645, acc: 0.5943521997333656\n",
      "---------------the evaluation dataloader---------------\n",
      "now using following mask: 0 freq, 0 time\n",
      "now using mix-up with rate 0.000000\n",
      "now process voxceleb\n",
      "use dataset mean -5.843 and std 3.883 to normalize the input.\n",
      "number of classes is 1251\n",
      "now using frame shift 10\n",
      "now using win size 25\n",
      "changing window size:  None\n"
     ]
    },
    {
     "name": "stderr",
     "output_type": "stream",
     "text": [
      "100%|██████████| 344/344 [00:40<00:00,  8.53it/s]\n"
     ]
    },
    {
     "name": "stdout",
     "output_type": "stream",
     "text": [
      "Quality ratio: 2176, mAP: 0.5684833839307813, acc: 0.5943521997333656\n",
      "---------------the evaluation dataloader---------------\n",
      "now using following mask: 0 freq, 0 time\n",
      "now using mix-up with rate 0.000000\n",
      "now process voxceleb\n",
      "use dataset mean -5.843 and std 3.883 to normalize the input.\n",
      "number of classes is 1251\n",
      "now using frame shift 10\n",
      "now using win size 25\n",
      "changing window size:  None\n"
     ]
    },
    {
     "name": "stderr",
     "output_type": "stream",
     "text": [
      "100%|██████████| 344/344 [00:41<00:00,  8.23it/s]\n"
     ]
    },
    {
     "name": "stdout",
     "output_type": "stream",
     "text": [
      "Quality ratio: 2304, mAP: 0.568638901940827, acc: 0.5939886074415223\n",
      "---------------the evaluation dataloader---------------\n",
      "now using following mask: 0 freq, 0 time\n",
      "now using mix-up with rate 0.000000\n",
      "now process voxceleb\n",
      "use dataset mean -5.843 and std 3.883 to normalize the input.\n",
      "number of classes is 1251\n",
      "now using frame shift 10\n",
      "now using win size 25\n",
      "changing window size:  None\n"
     ]
    },
    {
     "name": "stderr",
     "output_type": "stream",
     "text": [
      "100%|██████████| 344/344 [00:42<00:00,  8.11it/s]\n"
     ]
    },
    {
     "name": "stdout",
     "output_type": "stream",
     "text": [
      "Quality ratio: 2432, mAP: 0.5686411433126484, acc: 0.5943521997333656\n",
      "---------------the evaluation dataloader---------------\n",
      "now using following mask: 0 freq, 0 time\n",
      "now using mix-up with rate 0.000000\n",
      "now process voxceleb\n",
      "use dataset mean -5.843 and std 3.883 to normalize the input.\n",
      "number of classes is 1251\n",
      "now using frame shift 10\n",
      "now using win size 25\n",
      "changing window size:  None\n"
     ]
    },
    {
     "name": "stderr",
     "output_type": "stream",
     "text": [
      "100%|██████████| 344/344 [00:42<00:00,  8.06it/s]\n"
     ]
    },
    {
     "name": "stdout",
     "output_type": "stream",
     "text": [
      "Quality ratio: 2560, mAP: 0.5685190840536976, acc: 0.5943521997333656\n",
      "---------------the evaluation dataloader---------------\n",
      "now using following mask: 0 freq, 0 time\n",
      "now using mix-up with rate 0.000000\n",
      "now process voxceleb\n",
      "use dataset mean -5.843 and std 3.883 to normalize the input.\n",
      "number of classes is 1251\n",
      "now using frame shift 10\n",
      "now using win size 25\n",
      "changing window size:  None\n"
     ]
    },
    {
     "name": "stderr",
     "output_type": "stream",
     "text": [
      "100%|██████████| 344/344 [00:42<00:00,  8.03it/s]\n"
     ]
    },
    {
     "name": "stdout",
     "output_type": "stream",
     "text": [
      "Quality ratio: 2688, mAP: 0.5684467760703569, acc: 0.5941098048721367\n",
      "---------------the evaluation dataloader---------------\n",
      "now using following mask: 0 freq, 0 time\n",
      "now using mix-up with rate 0.000000\n",
      "now process voxceleb\n",
      "use dataset mean -5.843 and std 3.883 to normalize the input.\n",
      "number of classes is 1251\n",
      "now using frame shift 10\n",
      "now using win size 25\n",
      "changing window size:  None\n"
     ]
    },
    {
     "name": "stderr",
     "output_type": "stream",
     "text": [
      "100%|██████████| 344/344 [00:42<00:00,  8.09it/s]\n"
     ]
    },
    {
     "name": "stdout",
     "output_type": "stream",
     "text": [
      "Quality ratio: 2816, mAP: 0.5685828337436798, acc: 0.5939886074415223\n",
      "---------------the evaluation dataloader---------------\n",
      "now using following mask: 0 freq, 0 time\n",
      "now using mix-up with rate 0.000000\n",
      "now process voxceleb\n",
      "use dataset mean -5.843 and std 3.883 to normalize the input.\n",
      "number of classes is 1251\n",
      "now using frame shift 10\n",
      "now using win size 25\n",
      "changing window size:  None\n"
     ]
    },
    {
     "name": "stderr",
     "output_type": "stream",
     "text": [
      "100%|██████████| 344/344 [00:42<00:00,  8.07it/s]\n"
     ]
    },
    {
     "name": "stdout",
     "output_type": "stream",
     "text": [
      "Quality ratio: 2944, mAP: 0.5684403885661102, acc: 0.5939886074415223\n",
      "---------------the evaluation dataloader---------------\n",
      "now using following mask: 0 freq, 0 time\n",
      "now using mix-up with rate 0.000000\n",
      "now process voxceleb\n",
      "use dataset mean -5.843 and std 3.883 to normalize the input.\n",
      "number of classes is 1251\n",
      "now using frame shift 10\n",
      "now using win size 25\n",
      "changing window size:  None\n"
     ]
    },
    {
     "name": "stderr",
     "output_type": "stream",
     "text": [
      "100%|██████████| 344/344 [00:42<00:00,  8.02it/s]\n"
     ]
    },
    {
     "name": "stdout",
     "output_type": "stream",
     "text": [
      "Quality ratio: 3072, mAP: 0.568407489243745, acc: 0.5939886074415223\n",
      "[0.44661253181432553, 0.5235729002545146, 0.532420312689371, 0.5607805114531572, 0.5715670827778451, 0.580050902920858, 0.588534723063871, 0.5893831050781724, 0.5924130408435341, 0.5935038177190644, 0.5944733971639802, 0.5947157920252091, 0.5948369894558235, 0.5943521997333656, 0.5945945945945946, 0.5943521997333656, 0.5943521997333656, 0.5943521997333656, 0.5939886074415223, 0.5943521997333656, 0.5943521997333656, 0.5941098048721367, 0.5939886074415223, 0.5939886074415223, 0.5939886074415223]\n"
     ]
    }
   ],
   "source": [
    "import dataloader\n",
    "\n",
    "\n",
    "length = np.arange(128*2, 128*24+1,128)\n",
    "# append two special cases\n",
    "length = np.append(length, 400)\n",
    "length = np.append(length, 1600)\n",
    "length = np.sort(length)\n",
    "\n",
    "quality_acc = []\n",
    "\n",
    "batch_size = 12\n",
    "mel_bins = 128\n",
    "audio_length = 3072 # length upper bound\n",
    "dataset = 'voxceleb'\n",
    "Fshift = 10\n",
    "window_size = 25\n",
    "data_val = '/home/jfeng/FJ/FlexiAST/egs/voxceleb/data/datafile/test_data.json' # change to your own path\n",
    "label_csv = '/home/jfeng/FJ/FlexiAST/egs/voxceleb/data/class_labels_indices.csv' # change to your own path\n",
    "dataset_mean=-5.842545\n",
    "dataset_std=3.88305\n",
    "\n",
    "\n",
    "for l in length:\n",
    "    val_audio_conf = {'num_mel_bins': mel_bins, 'target_length': l, 'freqm': 0, 'timem': 0, 'mixup': 0,\n",
    "                'dataset': dataset, 'mode': 'evaluation', 'mean': dataset_mean, 'std': dataset_std, 'noise': False,\n",
    "                'Fshift': Fshift,\"window_size\":window_size}\n",
    "    val_loader = torch.utils.data.DataLoader(\n",
    "        dataloader.FlexiLength_Dataset(data_val, label_csv=label_csv, audio_conf=val_audio_conf),\n",
    "        batch_size=batch_size*2, shuffle=False, num_workers=8, pin_memory=True,collate_fn=dataloader.list_collate)\n",
    "\n",
    "    device = torch.device(\"cuda\" if torch.cuda.is_available() else \"cpu\")\n",
    "    model = model.to(device)\n",
    "    model.eval()\n",
    "    total_correct = 0\n",
    "    total_samples = 0\n",
    "    with torch.no_grad():\n",
    "        A_predictions = []\n",
    "        A_targets = []\n",
    "        A_loss = []\n",
    "        with tqdm(val_loader) as vepoch:\n",
    "            for data_items, labels in vepoch:\n",
    "                data_items, labels = data_items, labels\n",
    "                for i in range(len(data_items)):\n",
    "                    data_items[i] = data_items[i].to(device)\n",
    "                outputs = model(data_items,group_samples=True,group_max_seq_len=2048)\n",
    "                outputs = torch.sigmoid(outputs)\n",
    "                predictions = outputs.to('cpu').detach()\n",
    "\n",
    "                A_predictions.append(predictions)\n",
    "                A_targets.append(labels)\n",
    "\n",
    "                labels = labels.to(device)\n",
    "\n",
    "\n",
    "        outputs = torch.cat(A_predictions)\n",
    "        labels = torch.cat(A_targets)\n",
    "        stats = calculate_stats(outputs, labels)\n",
    "\n",
    "    mAP = np.mean([stat['AP'] for stat in stats])\n",
    "    acc = stats[0]['acc']\n",
    "    print(f\"Quality ratio: {l}, mAP: {mAP}, acc: {acc}\")\n",
    "    quality_acc.append(acc)\n",
    "\n",
    "print(quality_acc)"
   ]
  },
  {
   "cell_type": "code",
   "execution_count": 4,
   "metadata": {},
   "outputs": [],
   "source": [
    "baseline_1024 = [0.3684401891, 0.5022421525, 0.5124227366, 0.5649012241, 0.587686341, 0.5941098049, 0.5928978306, 0.5928978306, 0.5901102897, 0.5811416798, 0.5721730699, 0.5515695067, 0.5413889226, 0.5307235487, 0.5041813114, 0.4749727306, 0.4347351836, 0.4257665737, 0.3977699673, 0.3736516786, 0.3490486002, 0.3278390498, 0.3069930917, 0.2876015028, 0.2848139619]\n",
    "baseline_400  = [0.4262513635, 0.4805478124, 0.4897588171, 0.4822445764, 0.4674584899, 0.434856381, 0.3931644649, 0.350139377, 0.3050539329, 0.2694218883, 0.2363349897, 0.209671555, 0.193915889, 0.1889467943, 0.1708883772, 0.1554963035, 0.1426493758, 0.1334383711, 0.1190158769, 0.1087140953, 0.1016846443, 0.09598836505, 0.09247363956, 0.08386862199, 0.08144467337]\n",
    "baseline_1600 = [0.3245667192, 0.4637013695, 0.4747303357, 0.5379953945, 0.5703551085, 0.5828384438, 0.5936250151, 0.5935038177, 0.5943521997, 0.5953217792, 0.5948369895, 0.5932614229, 0.5966549509, 0.5937462126, 0.5862319719, 0.5778693492, 0.5739910314, 0.5682947522, 0.5532662708, 0.542358502, 0.525754454, 0.5086656163, 0.4984850321, 0.4822445764, 0.4679432796]\n",
    "len_cut_flexi = [0.44661253181432553, 0.5235729002545146, 0.532420312689371, 0.5607805114531572, 0.5715670827778451, 0.580050902920858, 0.588534723063871, 0.5893831050781724, 0.5924130408435341, 0.5935038177190644, 0.5944733971639802, 0.5947157920252091, 0.5948369894558235, 0.5943521997333656, 0.5945945945945946, 0.5943521997333656, 0.5943521997333656, 0.5943521997333656, 0.5939886074415223, 0.5943521997333656, 0.5943521997333656, 0.5941098048721367, 0.5939886074415223, 0.5939886074415223, 0.5939886074415223]"
   ]
  },
  {
   "cell_type": "code",
   "execution_count": 5,
   "metadata": {},
   "outputs": [
    {
     "data": {
      "image/png": "[encoded data removed]",
      "text/plain": [
       "<Figure size 640x480 with 1 Axes>"
      ]
     },
     "metadata": {},
     "output_type": "display_data"
    }
   ],
   "source": [
    "# draw the plot\n",
    "import matplotlib.pyplot as plt\n",
    "plt.plot(length, baseline_400, label=\"Baseline-400\",linestyle='--')\n",
    "plt.plot(length, baseline_1024, label=\"Baseline-1024\",linestyle=':')\n",
    "plt.plot(length, baseline_1600, label=\"Baseline-1600\",linestyle='-')\n",
    "plt.plot(length, len_cut_flexi, label=\"FlexiV2-cut\",color='r',linewidth=3)\n",
    "\n",
    "\n",
    "plt.legend()\n",
    "plt.xlabel(\"Time Dimension (128xN)\")\n",
    "plt.ylabel(\"Accuracy\")\n",
    "plt.title(\"Accuracy Across Different Natural Time Lengths\")\n",
    "\n",
    "plt.ylim(0.0, 0.75)\n",
    "\n",
    "plt.show()"
   ]
  },
  {
   "cell_type": "code",
   "execution_count": null,
   "metadata": {},
   "outputs": [],
   "source": []
  }
 ],
 "metadata": {
  "kernelspec": {
   "display_name": "flexiast2",
   "language": "python",
   "name": "python3"
  },
  "language_info": {
   "codemirror_mode": {
    "name": "ipython",
    "version": 3
   },
   "file_extension": ".py",
   "mimetype": "text/x-python",
   "name": "python",
   "nbconvert_exporter": "python",
   "pygments_lexer": "ipython3",
   "version": "3.8.16"
  }
 },
 "nbformat": 4,
 "nbformat_minor": 2
}

{
 "cells": [
  {
   "cell_type": "code",
   "execution_count": 1,
   "metadata": {},
   "outputs": [
    {
     "name": "stderr",
     "output_type": "stream",
     "text": [
      "/home/jfeng/anaconda3/envs/flexiast2/lib/python3.8/site-packages/tqdm/auto.py:22: TqdmWarning: IProgress not found. Please update jupyter and ipywidgets. See https://ipywidgets.readthedocs.io/en/stable/user_install.html\n",
      "  from .autonotebook import tqdm as notebook_tqdm\n",
      "################################################################################\n",
      "### WARNING, path does not exist: KALDI_ROOT=/mnt/matylda5/iveselyk/Tools/kaldi-trunk\n",
      "###          (please add 'export KALDI_ROOT=<your_path>' in your $HOME/.profile)\n",
      "###          (or run as: KALDI_ROOT=<your_path> python <your_script>.py)\n",
      "################################################################################\n",
      "\n"
     ]
    },
    {
     "data": {
      "text/plain": [
       "<All keys matched successfully>"
      ]
     },
     "execution_count": 1,
     "metadata": {},
     "output_type": "execute_result"
    }
   ],
   "source": [
    "import torch\n",
    "import os\n",
    "os.environ[\"CUDA_VISIBLE_DEVICES\"] = \"3\"\n",
    "from tqdm import tqdm\n",
    "\n",
    "\n",
    "from models import FlexiAST_V2\n",
    "import numpy as np\n",
    "import dataloader\n",
    "from utilities import *\n",
    "\n",
    "\n",
    "model = FlexiAST_V2(\n",
    "    sample_size = (128,3072),\n",
    "    patch_size = 16,\n",
    "    num_classes = 44,\n",
    "    dim = 768,\n",
    "    depth = 12,\n",
    "    heads = 12,\n",
    "    dropout = 0,\n",
    "    emb_dropout = 0,\n",
    "    token_dropout_prob = 0,  # token dropout of 10% (keep 90% of tokens)\n",
    "    channels=1,\n",
    ")\n",
    "\n",
    "\n",
    "model_load = \"/mnt/bear1/users/fj/FlexiAST_V2/flexiast2/epic-sound/epic-sound_flexi_len_pretrained-max3072-f48-t192-offcial-scheduler-1e-5/models/audio_model.12.pth\"\n",
    "\n",
    "\n",
    "out_dict = {}\n",
    "state_dict = torch.load(model_load,map_location=torch.device('cpu'))\n",
    "for k, v in state_dict.items(): # Adjust the name of dict\n",
    "    out_dict[k[7:]] = v\n",
    "model.load_state_dict(out_dict, strict=True)"
   ]
  },
  {
   "cell_type": "code",
   "execution_count": 2,
   "metadata": {},
   "outputs": [
    {
     "name": "stderr",
     "output_type": "stream",
     "text": [
      "100%|██████████| 670/670 [00:59<00:00, 11.19it/s]\n"
     ]
    },
    {
     "name": "stdout",
     "output_type": "stream",
     "text": [
      "Quality ratio: 256, mAP: 0.19271589585240695, acc: 0.48164281269446174\n"
     ]
    },
    {
     "name": "stderr",
     "output_type": "stream",
     "text": [
      "100%|██████████| 670/670 [01:00<00:00, 11.05it/s]\n"
     ]
    },
    {
     "name": "stdout",
     "output_type": "stream",
     "text": [
      "Quality ratio: 384, mAP: 0.2009552937633239, acc: 0.5001866832607342\n"
     ]
    },
    {
     "name": "stderr",
     "output_type": "stream",
     "text": [
      "100%|██████████| 670/670 [01:00<00:00, 11.12it/s]\n"
     ]
    },
    {
     "name": "stdout",
     "output_type": "stream",
     "text": [
      "Quality ratio: 400, mAP: 0.20218912856710958, acc: 0.5001866832607342\n"
     ]
    },
    {
     "name": "stderr",
     "output_type": "stream",
     "text": [
      "100%|██████████| 670/670 [01:00<00:00, 11.01it/s]\n"
     ]
    },
    {
     "name": "stdout",
     "output_type": "stream",
     "text": [
      "Quality ratio: 512, mAP: 0.20602310641224966, acc: 0.5072806471686372\n"
     ]
    },
    {
     "name": "stderr",
     "output_type": "stream",
     "text": [
      "100%|██████████| 670/670 [01:00<00:00, 11.04it/s]\n"
     ]
    },
    {
     "name": "stdout",
     "output_type": "stream",
     "text": [
      "Quality ratio: 640, mAP: 0.20882594872418683, acc: 0.5108898568761667\n"
     ]
    },
    {
     "name": "stderr",
     "output_type": "stream",
     "text": [
      "100%|██████████| 670/670 [01:01<00:00, 10.98it/s]\n"
     ]
    },
    {
     "name": "stdout",
     "output_type": "stream",
     "text": [
      "Quality ratio: 768, mAP: 0.20991854119968262, acc: 0.5133789670192906\n"
     ]
    },
    {
     "name": "stderr",
     "output_type": "stream",
     "text": [
      "100%|██████████| 670/670 [01:01<00:00, 10.92it/s]\n"
     ]
    },
    {
     "name": "stdout",
     "output_type": "stream",
     "text": [
      "Quality ratio: 896, mAP: 0.21152969737433047, acc: 0.5157436216552582\n"
     ]
    },
    {
     "name": "stderr",
     "output_type": "stream",
     "text": [
      "100%|██████████| 670/670 [01:00<00:00, 11.06it/s]\n"
     ]
    },
    {
     "name": "stdout",
     "output_type": "stream",
     "text": [
      "Quality ratio: 1024, mAP: 0.21164159736135196, acc: 0.5176104542626011\n"
     ]
    },
    {
     "name": "stderr",
     "output_type": "stream",
     "text": [
      "100%|██████████| 670/670 [01:01<00:00, 10.92it/s]\n"
     ]
    },
    {
     "name": "stdout",
     "output_type": "stream",
     "text": [
      "Quality ratio: 1152, mAP: 0.212356868050159, acc: 0.5176104542626011\n"
     ]
    },
    {
     "name": "stderr",
     "output_type": "stream",
     "text": [
      "100%|██████████| 670/670 [01:01<00:00, 10.87it/s]\n"
     ]
    },
    {
     "name": "stdout",
     "output_type": "stream",
     "text": [
      "Quality ratio: 1280, mAP: 0.21292023435589275, acc: 0.5184816428126945\n"
     ]
    },
    {
     "name": "stderr",
     "output_type": "stream",
     "text": [
      "100%|██████████| 670/670 [01:00<00:00, 11.01it/s]\n"
     ]
    },
    {
     "name": "stdout",
     "output_type": "stream",
     "text": [
      "Quality ratio: 1408, mAP: 0.21378971826974683, acc: 0.5189794648413192\n"
     ]
    },
    {
     "name": "stderr",
     "output_type": "stream",
     "text": [
      "100%|██████████| 670/670 [01:01<00:00, 10.89it/s]\n"
     ]
    },
    {
     "name": "stdout",
     "output_type": "stream",
     "text": [
      "Quality ratio: 1536, mAP: 0.21490829949493753, acc: 0.5196017423771002\n"
     ]
    },
    {
     "name": "stderr",
     "output_type": "stream",
     "text": [
      "100%|██████████| 670/670 [01:01<00:00, 10.95it/s]\n"
     ]
    },
    {
     "name": "stdout",
     "output_type": "stream",
     "text": [
      "Quality ratio: 1600, mAP: 0.2150330935764929, acc: 0.5203484754200374\n"
     ]
    },
    {
     "name": "stderr",
     "output_type": "stream",
     "text": [
      "100%|██████████| 670/670 [01:01<00:00, 10.94it/s]\n"
     ]
    },
    {
     "name": "stdout",
     "output_type": "stream",
     "text": [
      "Quality ratio: 1664, mAP: 0.21596691386643407, acc: 0.5212196639701306\n"
     ]
    },
    {
     "name": "stderr",
     "output_type": "stream",
     "text": [
      "100%|██████████| 670/670 [01:01<00:00, 10.87it/s]\n"
     ]
    },
    {
     "name": "stdout",
     "output_type": "stream",
     "text": [
      "Quality ratio: 1792, mAP: 0.21615935645556694, acc: 0.5222153080273803\n"
     ]
    },
    {
     "name": "stderr",
     "output_type": "stream",
     "text": [
      "100%|██████████| 670/670 [01:01<00:00, 10.93it/s]\n"
     ]
    },
    {
     "name": "stdout",
     "output_type": "stream",
     "text": [
      "Quality ratio: 1920, mAP: 0.2162930627500087, acc: 0.5218419415059117\n"
     ]
    },
    {
     "name": "stderr",
     "output_type": "stream",
     "text": [
      "100%|██████████| 670/670 [01:01<00:00, 10.86it/s]\n"
     ]
    },
    {
     "name": "stdout",
     "output_type": "stream",
     "text": [
      "Quality ratio: 2048, mAP: 0.21746853747078215, acc: 0.5218419415059117\n"
     ]
    },
    {
     "name": "stderr",
     "output_type": "stream",
     "text": [
      "100%|██████████| 670/670 [01:01<00:00, 10.82it/s]\n"
     ]
    },
    {
     "name": "stdout",
     "output_type": "stream",
     "text": [
      "Quality ratio: 2176, mAP: 0.21818527320167852, acc: 0.5224642190416926\n"
     ]
    },
    {
     "name": "stderr",
     "output_type": "stream",
     "text": [
      "100%|██████████| 670/670 [01:01<00:00, 10.85it/s]\n"
     ]
    },
    {
     "name": "stdout",
     "output_type": "stream",
     "text": [
      "Quality ratio: 2304, mAP: 0.2188653047483908, acc: 0.523335407591786\n"
     ]
    },
    {
     "name": "stderr",
     "output_type": "stream",
     "text": [
      "100%|██████████| 670/670 [01:01<00:00, 10.87it/s]\n"
     ]
    },
    {
     "name": "stdout",
     "output_type": "stream",
     "text": [
      "Quality ratio: 2432, mAP: 0.21937670394678915, acc: 0.5240821406347231\n"
     ]
    },
    {
     "name": "stderr",
     "output_type": "stream",
     "text": [
      "100%|██████████| 670/670 [01:01<00:00, 10.81it/s]\n"
     ]
    },
    {
     "name": "stdout",
     "output_type": "stream",
     "text": [
      "Quality ratio: 2560, mAP: 0.2191332145819878, acc: 0.5229620410703174\n"
     ]
    },
    {
     "name": "stderr",
     "output_type": "stream",
     "text": [
      "100%|██████████| 670/670 [01:01<00:00, 10.83it/s]\n"
     ]
    },
    {
     "name": "stdout",
     "output_type": "stream",
     "text": [
      "Quality ratio: 2688, mAP: 0.2197067846743759, acc: 0.5228375855631612\n"
     ]
    },
    {
     "name": "stderr",
     "output_type": "stream",
     "text": [
      "100%|██████████| 670/670 [01:01<00:00, 10.86it/s]\n"
     ]
    },
    {
     "name": "stdout",
     "output_type": "stream",
     "text": [
      "Quality ratio: 2816, mAP: 0.2185663668365763, acc: 0.5230864965774735\n"
     ]
    },
    {
     "name": "stderr",
     "output_type": "stream",
     "text": [
      "100%|██████████| 670/670 [01:02<00:00, 10.78it/s]\n"
     ]
    },
    {
     "name": "stdout",
     "output_type": "stream",
     "text": [
      "Quality ratio: 2944, mAP: 0.2203509604447045, acc: 0.5225886745488488\n"
     ]
    },
    {
     "name": "stderr",
     "output_type": "stream",
     "text": [
      "100%|██████████| 670/670 [01:03<00:00, 10.49it/s]\n"
     ]
    },
    {
     "name": "stdout",
     "output_type": "stream",
     "text": [
      "Quality ratio: 3072, mAP: 0.22008337532639055, acc: 0.5224642190416926\n",
      "[0.48164281269446174, 0.5001866832607342, 0.5001866832607342, 0.5072806471686372, 0.5108898568761667, 0.5133789670192906, 0.5157436216552582, 0.5176104542626011, 0.5176104542626011, 0.5184816428126945, 0.5189794648413192, 0.5196017423771002, 0.5203484754200374, 0.5212196639701306, 0.5222153080273803, 0.5218419415059117, 0.5218419415059117, 0.5224642190416926, 0.523335407591786, 0.5240821406347231, 0.5229620410703174, 0.5228375855631612, 0.5230864965774735, 0.5225886745488488, 0.5224642190416926]\n"
     ]
    }
   ],
   "source": [
    "import copy\n",
    "from fvcore.common.config import CfgNode\n",
    "import yaml\n",
    "from epic_data import loader\n",
    "\n",
    "# Load the YAML file\n",
    "yaml_file = \"/home/jfeng/FJ/epic-sounds-annotations/src/config.yaml\"\n",
    "with open(yaml_file, 'r') as f:\n",
    "    cfg_dict = yaml.safe_load(f)\n",
    "\n",
    "\n",
    "length = np.arange(128*2, 128*24+1,128)\n",
    "# append two special cases\n",
    "length = np.append(length, 400)\n",
    "length = np.append(length, 1600)\n",
    "length = np.sort(length)\n",
    "\n",
    "quality_acc = []\n",
    "\n",
    "ori_size = get_shape(16,16,16,input_tdim=int(1024))\n",
    "\n",
    "\n",
    "for l in length:\n",
    "    # Convert dictionary to CfgNode\n",
    "    cfg = CfgNode(cfg_dict)\n",
    "    cfg.TRAIN.DATASET = \"Epicsounds_flexi\"\n",
    "    cfg.T_MASK = 0\n",
    "    cfg.F_MASK = 0\n",
    "    cfg.T_WARP = 5\n",
    "    cfg.AUDIO_DATA.NUM_FRAMES = int(l)\n",
    "    # cfg.MIN_AUDIO_LENGTH = int(128*q)\n",
    "    cfg.MIN_AUDIO_LENGTH = 192\n",
    "    cfg.DATA_LOADER.NUM_WORKERS=16\n",
    "    cfg.RANDOM=False\n",
    "\n",
    "\n",
    "    val_loader = loader.construct_loader_flexi(cfg, \"val\")\n",
    "\n",
    "    device = torch.device(\"cuda\" if torch.cuda.is_available() else \"cpu\")\n",
    "    model = model.to(device)\n",
    "    model.eval()\n",
    "    total_correct = 0\n",
    "    total_samples = 0\n",
    "    with torch.no_grad():\n",
    "        A_predictions = []\n",
    "        A_targets = []\n",
    "        A_loss = []\n",
    "        with tqdm(val_loader) as vepoch:\n",
    "            for data_items, labels in vepoch:\n",
    "                data_items, labels = data_items, labels\n",
    "                for i in range(len(data_items)):\n",
    "                    data_items[i] = data_items[i].to(device)\n",
    "                outputs = model(data_items,group_samples=True,group_max_seq_len=2048)\n",
    "                outputs = torch.sigmoid(outputs)\n",
    "                predictions = outputs.to('cpu').detach()\n",
    "\n",
    "                A_predictions.append(predictions)\n",
    "                A_targets.append(labels)\n",
    "\n",
    "                labels = labels.to(device)\n",
    "\n",
    "\n",
    "        outputs = torch.cat(A_predictions)\n",
    "        labels = torch.cat(A_targets)\n",
    "        stats = calculate_stats(outputs, labels)\n",
    "\n",
    "    mAP = np.mean([stat['AP'] for stat in stats])\n",
    "    acc = stats[0]['acc']\n",
    "    print(f\"Quality ratio: {l}, mAP: {mAP}, acc: {acc}\")\n",
    "    quality_acc.append(acc)\n",
    "\n",
    "print(quality_acc)\n"
   ]
  },
  {
   "cell_type": "code",
   "execution_count": null,
   "metadata": {},
   "outputs": [],
   "source": [
    "baseline_1024 = [0.3684401891, 0.5022421525, 0.5124227366, 0.5649012241, 0.587686341, 0.5941098049, 0.5928978306, 0.5928978306, 0.5901102897, 0.5811416798, 0.5721730699, 0.5515695067, 0.5413889226, 0.5307235487, 0.5041813114, 0.4749727306, 0.4347351836, 0.4257665737, 0.3977699673, 0.3736516786, 0.3490486002, 0.3278390498, 0.3069930917, 0.2876015028, 0.2848139619]\n",
    "baseline_400  = [0.4262513635, 0.4805478124, 0.4897588171, 0.4822445764, 0.4674584899, 0.434856381, 0.3931644649, 0.350139377, 0.3050539329, 0.2694218883, 0.2363349897, 0.209671555, 0.193915889, 0.1889467943, 0.1708883772, 0.1554963035, 0.1426493758, 0.1334383711, 0.1190158769, 0.1087140953, 0.1016846443, 0.09598836505, 0.09247363956, 0.08386862199, 0.08144467337]\n",
    "baseline_1600 = [0.3245667192, 0.4637013695, 0.4747303357, 0.5379953945, 0.5703551085, 0.5828384438, 0.5936250151, 0.5935038177, 0.5943521997, 0.5953217792, 0.5948369895, 0.5932614229, 0.5966549509, 0.5937462126, 0.5862319719, 0.5778693492, 0.5739910314, 0.5682947522, 0.5532662708, 0.542358502, 0.525754454, 0.5086656163, 0.4984850321, 0.4822445764, 0.4679432796]\n",
    "len_cut_flexi = [0.44661253181432553, 0.5235729002545146, 0.5607805114531572, 0.5715670827778451, 0.580050902920858, 0.588534723063871, 0.5893831050781724, 0.5924130408435341, 0.5935038177190644, 0.5944733971639802, 0.5947157920252091, 0.5943521997333656, 0.5945945945945946, 0.5943521997333656, 0.5943521997333656, 0.5943521997333656, 0.5939886074415223, 0.5943521997333656, 0.5943521997333656, 0.5941098048721367, 0.5939886074415223, 0.5939886074415223, 0.5939886074415223]"
   ]
  },
  {
   "cell_type": "code",
   "execution_count": null,
   "metadata": {},
   "outputs": [],
   "source": [
    "# draw the plot\n",
    "import matplotlib.pyplot as plt\n",
    "plt.plot(length, baseline_400, label=\"Baseline-400\",linestyle='--')\n",
    "plt.plot(length, baseline_1024, label=\"Baseline-1024\",linestyle=':')\n",
    "plt.plot(length, baseline_1600, label=\"Baseline-1600\",linestyle='-')\n",
    "plt.plot(length, len_cut_flexi, label=\"FlexiV2-cut\",color='r',linewidth=2)\n",
    "# plt.axhline(y=len_cut_natural, color='r', linestyle='-', label=\"FlexiV2-Natural\", linewidth=2)\n",
    "# plt.text(0, len_cut_natural, f\"          {len_cut_natural}\", verticalalignment='bottom', color='r')\n",
    "# plt.axhline(y=len_cut_natural, color='r', linestyle='-', label=\"FlexiV2-Natural\")\n",
    "# plt.axhline(y=len_cut_natural, color='r', linestyle='-', label=\"FlexiV2-Natural\", linewidth=2)\n",
    "# plt.text(0, len_cut_natural, f\"          {len_cut_natural}\", verticalalignment='bottom', color='r')\n",
    "plt.legend()\n",
    "plt.xlabel(\"Time Dimension\")\n",
    "plt.ylabel(\"Accuracy\")\n",
    "plt.title(\"Quality ratio vs Accuracy\")\n",
    "# show grid\n",
    "\n",
    "\n",
    "# show a vertical line\n",
    "# plt.grid(True)\n",
    "# set x-axis indicator\n",
    "# plt.xticks(range(128, 3072, 256))\n",
    "# plt.axvline(x=475, color='r', linestyle='--')\n",
    "# plt.axvline(x=1124, color='r', linestyle='--')\n",
    "\n",
    "\n",
    "# set y-axis range\n",
    "plt.ylim(0.0, 0.75)\n",
    "\n",
    "plt.show()"
   ]
  },
  {
   "cell_type": "code",
   "execution_count": null,
   "metadata": {},
   "outputs": [],
   "source": []
  }
 ],
 "metadata": {
  "kernelspec": {
   "display_name": "flexiast2",
   "language": "python",
   "name": "python3"
  },
  "language_info": {
   "codemirror_mode": {
    "name": "ipython",
    "version": 3
   },
   "file_extension": ".py",
   "mimetype": "text/x-python",
   "name": "python",
   "nbconvert_exporter": "python",
   "pygments_lexer": "ipython3",
   "version": "3.8.-1"
  }
 },
 "nbformat": 4,
 "nbformat_minor": 2
}
